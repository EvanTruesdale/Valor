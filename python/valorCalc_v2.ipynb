{
 "cells": [
  {
   "cell_type": "code",
   "execution_count": 98,
   "id": "65c1965c",
   "metadata": {},
   "outputs": [],
   "source": [
    "import numpy as np\n",
    "import matplotlib.pyplot as plt"
   ]
  },
  {
   "cell_type": "code",
   "execution_count": 118,
   "id": "7d67da6b",
   "metadata": {},
   "outputs": [],
   "source": [
    "energyPos = 0\n",
    "energyNeg = 0\n",
    "targetSuccesses = 2\n",
    "sampleSize = 10**6\n",
    "#       d4 d6 d8 d10 d12\n",
    "dice = [4, 6, 8, 10, 12]\n",
    "dPos = [0, 0, 2, 2,  0]\n",
    "dNeg = [0, 0, 0, 2,  0]"
   ]
  },
  {
   "cell_type": "code",
   "execution_count": 119,
   "id": "cf769157",
   "metadata": {},
   "outputs": [],
   "source": [
    "dPosString = ''\n",
    "for i in range(len(dPos)):\n",
    "        if dPos[i]>0:\n",
    "            dPosString += str(dPos[i])+'d'+str(2+2*i)+' '\n",
    "if len(dPosString) == 0: dPosString = '0 '\n",
    "\n",
    "dNegString = ''\n",
    "for i in range(len(dNeg)):\n",
    "        if dNeg[i]>0:\n",
    "            dNegString += str(dNeg[i])+'d'+str(2+2*i)+' '\n",
    "if len(dNegString) == 0: dNegString = '0 '"
   ]
  },
  {
   "cell_type": "code",
   "execution_count": 120,
   "id": "1e96d2e9",
   "metadata": {},
   "outputs": [],
   "source": [
    "rng = np.random.default_rng()\n",
    "posMat = {}\n",
    "negMat = {}\n",
    "for i,d in enumerate(dice):\n",
    "    posMat[str(d)] = rng.integers(low=1, high=d+1, size=(sampleSize, dPos[i]))\n",
    "    negMat[str(d)] = rng.integers(low=1, high=d+1, size=(sampleSize, dNeg[i]))"
   ]
  },
  {
   "cell_type": "code",
   "execution_count": 121,
   "id": "062cd064",
   "metadata": {},
   "outputs": [],
   "source": [
    "posSucc = {}\n",
    "for d,rolls in posMat.items():\n",
    "    successArr = []\n",
    "    for roll in rolls:\n",
    "        sEnergy = energyPos\n",
    "        successes = 0\n",
    "        for die in roll:\n",
    "            if die > 3:\n",
    "                successes+=1\n",
    "            elif die > 2 and sEnergy > 0:\n",
    "                successes+=1\n",
    "                sEnergy-=1\n",
    "        successArr.append(successes)\n",
    "    posSucc[str(d)] = successArr\n",
    "    \n",
    "negSucc = {}\n",
    "for d,rolls in negMat.items():\n",
    "    successArr = []\n",
    "    for roll in rolls:\n",
    "        sEnergy = energyNeg\n",
    "        successes = 0\n",
    "        for die in roll:\n",
    "            if die > 3:\n",
    "                successes+=1\n",
    "            elif die > 2 and sEnergy > 0:\n",
    "                successes+=1\n",
    "                sEnergy-=1\n",
    "        successArr.append(successes)\n",
    "    negSucc[str(d)] = successArr"
   ]
  },
  {
   "cell_type": "code",
   "execution_count": 122,
   "id": "ffb27617",
   "metadata": {},
   "outputs": [],
   "source": [
    "netSuccAll = np.zeros(len(posSucc[list(posSucc.keys())[0]]))\n",
    "for d in posSucc.keys():\n",
    "    netSucc = np.array(posSucc[d]) - np.array(negSucc[d])\n",
    "    netSuccAll += netSucc\n",
    "threshCount = len(netSuccAll[netSuccAll>=targetSuccesses])\n",
    "total = len(posSucc[list(posSucc.keys())[0]])\n",
    "prob = threshCount/total"
   ]
  },
  {
   "cell_type": "code",
   "execution_count": 123,
   "id": "937e8557",
   "metadata": {},
   "outputs": [
    {
     "data": {
      "image/png": "[encoded data removed]",
      "text/plain": [
       "<Figure size 432x288 with 1 Axes>"
      ]
     },
     "metadata": {
      "needs_background": "light"
     },
     "output_type": "display_data"
    }
   ],
   "source": [
    "bins = np.arange(netSuccAll.min(), netSuccAll.max()+2, 1)\n",
    "plt.hist(netSuccAll, bins, align='left')\n",
    "plt.title('Distribution of Net Successes (%d%% chance of a hit)'%(prob*100))\n",
    "plt.xlabel('Net Successes')\n",
    "plt.ylabel('Count (out of %d)'%total)\n",
    "plt.show()"
   ]
  },
  {
   "cell_type": "code",
   "execution_count": null,
   "id": "6305ff5b",
   "metadata": {},
   "outputs": [],
   "source": []
  }
 ],
 "metadata": {
  "kernelspec": {
   "display_name": "Python 3 (ipykernel)",
   "language": "python",
   "name": "python3"
  },
  "language_info": {
   "codemirror_mode": {
    "name": "ipython",
    "version": 3
   },
   "file_extension": ".py",
   "mimetype": "text/x-python",
   "name": "python",
   "nbconvert_exporter": "python",
   "pygments_lexer": "ipython3",
   "version": "3.9.5"
  }
 },
 "nbformat": 4,
 "nbformat_minor": 5
}
